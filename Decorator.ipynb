{
 "metadata": {
  "name": "",
  "signature": "sha256:637a4fe46c1dada0872d3cc85667a5a85145ccafd71b2a5c8b118c7408099994"
 },
 "nbformat": 3,
 "nbformat_minor": 0,
 "worksheets": [
  {
   "cells": [
    {
     "cell_type": "heading",
     "level": 1,
     "metadata": {},
     "source": [
      "Decorator"
     ]
    },
    {
     "cell_type": "markdown",
     "metadata": {},
     "source": [
      "\u88c5\u9970\u5668\u662f\u4e00\u4e2a\u5f88\u8457\u540d\u7684\u8bbe\u8ba1\u6a21\u5f0f\uff0c\u7ecf\u5e38\u88ab\u7528\u4e8e\u6709\u5207\u9762\u9700\u6c42\u7684\u573a\u666f\uff0c\u8f83\u4e3a\u7ecf\u5178\u7684\u6709\u63d2\u5165\u65e5\u5fd7\u3001\u6027\u80fd\u6d4b\u8bd5\u3001\u4e8b\u52a1\u5904\u7406\u7b49\u3002\u88c5\u9970\u5668\u662f\u89e3\u51b3\u8fd9\u7c7b\u95ee\u9898\u7684\u7edd\u4f73\u8bbe\u8ba1\uff0c\u6709\u4e86\u88c5\u9970\u5668\uff0c\u6211\u4eec\u5c31\u53ef\u4ee5\u62bd\u79bb\u51fa\u5927\u91cf\u51fd\u6570\u4e2d\u4e0e\u51fd\u6570\u529f\u80fd\u672c\u8eab\u65e0\u5173\u7684\u96f7\u540c\u4ee3\u7801\u5e76\u7ee7\u7eed\u91cd\u7528\u3002\u6982\u62ec\u7684\u8bb2\uff0c\u88c5\u9970\u5668\u7684\u4f5c\u7528\u5c31\u662f\u4e3a\u5df2\u7ecf\u5b58\u5728\u7684\u5bf9\u8c61\u6dfb\u52a0\u989d\u5916\u7684\u529f\u80fd\u3002"
     ]
    },
    {
     "cell_type": "heading",
     "level": 2,
     "metadata": {},
     "source": [
      "1. \u88c5\u9970\u5668\u5165\u95e8"
     ]
    },
    {
     "cell_type": "heading",
     "level": 3,
     "metadata": {},
     "source": [
      "1.1. \u9700\u6c42\u662f\u600e\u4e48\u6765\u7684\uff1f"
     ]
    },
    {
     "cell_type": "markdown",
     "metadata": {},
     "source": [
      "\u88c5\u9970\u5668\u7684\u5b9a\u4e49\u5f88\u662f\u62bd\u8c61\uff0c\u6211\u4eec\u6765\u770b\u4e00\u4e2a\u5c0f\u4f8b\u5b50\u3002"
     ]
    },
    {
     "cell_type": "markdown",
     "metadata": {},
     "source": [
      "def foo():\n",
      "    print 'in foo()'\n",
      " \n",
      "foo()"
     ]
    },
    {
     "cell_type": "markdown",
     "metadata": {},
     "source": [
      "\u8fd9\u662f\u4e00\u4e2a\u5f88\u65e0\u804a\u7684\u51fd\u6570\u6ca1\u9519\u3002\u4f46\u662f\u7a81\u7136\u6709\u4e00\u4e2a\u66f4\u65e0\u804a\u7684\u4eba\uff0c\u6211\u4eec\u79f0\u547c\u4ed6\u4e3aB\u541b\uff0c\u8bf4\u6211\u60f3\u770b\u770b\u6267\u884c\u8fd9\u4e2a\u51fd\u6570\u7528\u4e86\u591a\u957f\u65f6\u95f4\uff0c\u597d\u5427\uff0c\u90a3\u4e48\u6211\u4eec\u53ef\u4ee5\u8fd9\u6837\u505a\uff1a"
     ]
    },
    {
     "cell_type": "markdown",
     "metadata": {},
     "source": [
      "import time\n",
      "def foo():\n",
      "    start = time.clock()\n",
      "    print 'in foo()'\n",
      "    end = time.clock()\n",
      "    print 'used:', end - start\n",
      "\n",
      "foo()"
     ]
    },
    {
     "cell_type": "markdown",
     "metadata": {},
     "source": [
      "\u5f88\u597d\uff0c\u529f\u80fd\u770b\u8d77\u6765\u65e0\u61c8\u53ef\u51fb\u3002\u53ef\u662f\u86cb\u75bc\u7684B\u541b\u6b64\u523b\u7a81\u7136\u4e0d\u60f3\u770b\u8fd9\u4e2a\u51fd\u6570\u4e86\uff0c\u4ed6\u5bf9\u53e6\u4e00\u4e2a\u53ebfoo2\u7684\u51fd\u6570\u4ea7\u751f\u4e86\u66f4\u6d53\u539a\u7684\u5174\u8da3\u3002\n",
      "\n",
      "\u600e\u4e48\u529e\u5462\uff1f\u5982\u679c\u628a\u4ee5\u4e0a\u65b0\u589e\u52a0\u7684\u4ee3\u7801\u590d\u5236\u5230foo2\u91cc\uff0c\u8fd9\u5c31\u72af\u4e86\u5927\u5fcc\u4e86~\u590d\u5236\u4ec0\u4e48\u7684\u96be\u9053\u4e0d\u662f\u6700\u8ba8\u538c\u4e86\u4e48\uff01\u800c\u4e14\uff0c\u5982\u679cB\u541b\u7ee7\u7eed\u770b\u4e86\u5176\u4ed6\u7684\u51fd\u6570\u5462\uff1f"
     ]
    },
    {
     "cell_type": "heading",
     "level": 3,
     "metadata": {},
     "source": [
      "1.2. \u4ee5\u4e0d\u53d8\u5e94\u4e07\u53d8\uff0c\u662f\u53d8\u4e5f"
     ]
    },
    {
     "cell_type": "markdown",
     "metadata": {},
     "source": [
      "\u8fd8\u8bb0\u5f97\u5417\uff0c\u51fd\u6570\u5728Python\u4e2d\u662f\u4e00\u7b49\u516c\u6c11\uff0c\u90a3\u4e48\u6211\u4eec\u53ef\u4ee5\u8003\u8651\u91cd\u65b0\u5b9a\u4e49\u4e00\u4e2a\u51fd\u6570timeit\uff0c\u5c06foo\u7684\u5f15\u7528\u4f20\u9012\u7ed9\u4ed6\uff0c\u7136\u540e\u5728timeit\u4e2d\u8c03\u7528foo\u5e76\u8fdb\u884c\u8ba1\u65f6\uff0c\u8fd9\u6837\uff0c\u6211\u4eec\u5c31\u8fbe\u5230\u4e86\u4e0d\u6539\u52a8foo\u5b9a\u4e49\u7684\u76ee\u7684\uff0c\u800c\u4e14\uff0c\u4e0d\u8bbaB\u541b\u770b\u4e86\u591a\u5c11\u4e2a\u51fd\u6570\uff0c\u6211\u4eec\u90fd\u4e0d\u7528\u53bb\u4fee\u6539\u51fd\u6570\u5b9a\u4e49\u4e86\uff01"
     ]
    },
    {
     "cell_type": "markdown",
     "metadata": {},
     "source": [
      "import time\n",
      " \n",
      "def foo():\n",
      "    print 'in foo()'\n",
      " \n",
      "def timeit(func):\n",
      "    start = time.clock()\n",
      "    func()\n",
      "    end =time.clock()\n",
      "    print 'used:', end - start\n",
      " \n",
      "timeit(foo)"
     ]
    },
    {
     "cell_type": "markdown",
     "metadata": {},
     "source": [
      "\u770b\u8d77\u6765\u903b\u8f91\u4e0a\u5e76\u6ca1\u6709\u95ee\u9898\uff0c\u4e00\u5207\u90fd\u5f88\u7f8e\u597d\u5e76\u4e14\u8fd0\u4f5c\u6b63\u5e38\uff01\u2026\u2026\u7b49\u7b49\uff0c\u6211\u4eec\u4f3c\u4e4e\u4fee\u6539\u4e86\u8c03\u7528\u90e8\u5206\u7684\u4ee3\u7801\u3002\u539f\u672c\u6211\u4eec\u662f\u8fd9\u6837\u8c03\u7528\u7684\uff1afoo()\uff0c\u4fee\u6539\u4ee5\u540e\u53d8\u6210\u4e86\uff1atimeit(foo)\u3002\u8fd9\u6837\u7684\u8bdd\uff0c\u5982\u679cfoo\u5728N\u5904\u90fd\u88ab\u8c03\u7528\u4e86\uff0c\u4f60\u5c31\u4e0d\u5f97\u4e0d\u53bb\u4fee\u6539\u8fd9N\u5904\u7684\u4ee3\u7801\u3002\u6216\u8005\u66f4\u6781\u7aef\u7684\uff0c\u8003\u8651\u5176\u4e2d\u67d0\u5904\u8c03\u7528\u7684\u4ee3\u7801\u65e0\u6cd5\u4fee\u6539\u8fd9\u4e2a\u60c5\u51b5\uff0c\u6bd4\u5982\uff1a\u8fd9\u4e2a\u51fd\u6570\u662f\u4f60\u4ea4\u7ed9\u522b\u4eba\u4f7f\u7528\u7684\u3002"
     ]
    },
    {
     "cell_type": "heading",
     "level": 3,
     "metadata": {},
     "source": [
      "1.3. \u6700\u5927\u9650\u5ea6\u5730\u5c11\u6539\u52a8\uff01"
     ]
    },
    {
     "cell_type": "markdown",
     "metadata": {},
     "source": [
      "\u65e2\u7136\u5982\u6b64\uff0c\u6211\u4eec\u5c31\u6765\u60f3\u60f3\u529e\u6cd5\u4e0d\u4fee\u6539\u8c03\u7528\u7684\u4ee3\u7801\uff1b\u5982\u679c\u4e0d\u4fee\u6539\u8c03\u7528\u4ee3\u7801\uff0c\u4e5f\u5c31\u610f\u5473\u7740\u8c03\u7528foo()\u9700\u8981\u4ea7\u751f\u8c03\u7528timeit(foo)\u7684\u6548\u679c\u3002\u6211\u4eec\u53ef\u4ee5\u60f3\u5230\u5c06timeit\u8d4b\u503c\u7ed9foo\uff0c\u4f46\u662ftimeit\u4f3c\u4e4e\u5e26\u6709\u4e00\u4e2a\u53c2\u6570\u2026\u2026\u60f3\u529e\u6cd5\u628a\u53c2\u6570\u7edf\u4e00\u5427\uff01\u5982\u679ctimeit(foo)\u4e0d\u662f\u76f4\u63a5\u4ea7\u751f\u8c03\u7528\u6548\u679c\uff0c\u800c\u662f\u8fd4\u56de\u4e00\u4e2a\u4e0efoo\u53c2\u6570\u5217\u8868\u4e00\u81f4\u7684\u51fd\u6570\u7684\u8bdd\u2026\u2026\u5c31\u5f88\u597d\u529e\u4e86\uff0c\u5c06timeit(foo)\u7684\u8fd4\u56de\u503c\u8d4b\u503c\u7ed9foo\uff0c\u7136\u540e\uff0c\u8c03\u7528foo()\u7684\u4ee3\u7801\u5b8c\u5168\u4e0d\u7528\u4fee\u6539\uff01"
     ]
    },
    {
     "cell_type": "markdown",
     "metadata": {},
     "source": [
      "#-*- coding: UTF-8 -*-\n",
      "import time\n",
      " \n",
      "def foo():\n",
      "    print 'in foo()'\n",
      " \n",
      "# \u5b9a\u4e49\u4e00\u4e2a\u8ba1\u65f6\u5668\uff0c\u4f20\u5165\u4e00\u4e2a\uff0c\u5e76\u8fd4\u56de\u53e6\u4e00\u4e2a\u9644\u52a0\u4e86\u8ba1\u65f6\u529f\u80fd\u7684\u65b9\u6cd5\n",
      "def timeit(func):\n",
      "     \n",
      "    # \u5b9a\u4e49\u4e00\u4e2a\u5185\u5d4c\u7684\u5305\u88c5\u51fd\u6570\uff0c\u7ed9\u4f20\u5165\u7684\u51fd\u6570\u52a0\u4e0a\u8ba1\u65f6\u529f\u80fd\u7684\u5305\u88c5\n",
      "    def wrapper():\n",
      "        start = time.clock()\n",
      "        func()\n",
      "        end =time.clock()\n",
      "        print 'used:', end - start\n",
      "     \n",
      "    # \u5c06\u5305\u88c5\u540e\u7684\u51fd\u6570\u8fd4\u56de\n",
      "    return wrapper\n",
      " \n",
      "foo = timeit(foo)\n",
      "foo()"
     ]
    },
    {
     "cell_type": "markdown",
     "metadata": {},
     "source": [
      "\u8fd9\u6837\uff0c\u4e00\u4e2a\u7b80\u6613\u7684\u8ba1\u65f6\u5668\u5c31\u505a\u597d\u4e86\uff01\u6211\u4eec\u53ea\u9700\u8981\u5728\u5b9a\u4e49foo\u4ee5\u540e\u8c03\u7528foo\u4e4b\u524d\uff0c\u52a0\u4e0afoo = timeit(foo)\uff0c\u5c31\u53ef\u4ee5\u8fbe\u5230\u8ba1\u65f6\u7684\u76ee\u7684\uff0c\u8fd9\u4e5f\u5c31\u662f\u88c5\u9970\u5668\u7684\u6982\u5ff5\uff0c\u770b\u8d77\u6765\u50cf\u662ffoo\u88abtimeit\u88c5\u9970\u4e86\u3002\u5728\u5728\u8fd9\u4e2a\u4f8b\u5b50\u4e2d\uff0c\u51fd\u6570\u8fdb\u5165\u548c\u9000\u51fa\u65f6\u9700\u8981\u8ba1\u65f6\uff0c\u8fd9\u88ab\u79f0\u4e3a\u4e00\u4e2a\u6a2a\u5207\u9762(Aspect)\uff0c\u8fd9\u79cd\u7f16\u7a0b\u65b9\u5f0f\u88ab\u79f0\u4e3a\u9762\u5411\u5207\u9762\u7684\u7f16\u7a0b(Aspect-Oriented Programming)\u3002\u4e0e\u4f20\u7edf\u7f16\u7a0b\u4e60\u60ef\u7684\u4ece\u4e0a\u5f80\u4e0b\u6267\u884c\u65b9\u5f0f\u76f8\u6bd4\u8f83\u800c\u8a00\uff0c\u50cf\u662f\u5728\u51fd\u6570\u6267\u884c\u7684\u6d41\u7a0b\u4e2d\u6a2a\u5411\u5730\u63d2\u5165\u4e86\u4e00\u6bb5\u903b\u8f91\u3002\u5728\u7279\u5b9a\u7684\u4e1a\u52a1\u9886\u57df\u91cc\uff0c\u80fd\u51cf\u5c11\u5927\u91cf\u91cd\u590d\u4ee3\u7801\u3002\u9762\u5411\u5207\u9762\u7f16\u7a0b\u8fd8\u6709\u76f8\u5f53\u591a\u7684\u672f\u8bed\uff0c\u8fd9\u91cc\u5c31\u4e0d\u591a\u505a\u4ecb\u7ecd\uff0c\u611f\u5174\u8da3\u7684\u8bdd\u53ef\u4ee5\u53bb\u627e\u627e\u76f8\u5173\u7684\u8d44\u6599\u3002"
     ]
    },
    {
     "cell_type": "heading",
     "level": 4,
     "metadata": {},
     "source": [
      "1.3.1 \u4f7f\u7528\u5185\u5d4c\u5305\u88c5\u51fd\u6570\u6765\u786e\u4fdd\u6bcf\u6b21\u65b0\u51fd\u6570\u90fd\u88ab\u8c03\u7528"
     ]
    },
    {
     "cell_type": "code",
     "collapsed": false,
     "input": [
      "# -*- coding:gbk -*-\n",
      "'''\u793a\u4f8b4: \u4f7f\u7528\u5185\u5d4c\u5305\u88c5\u51fd\u6570\u6765\u786e\u4fdd\u6bcf\u6b21\u65b0\u51fd\u6570\u90fd\u88ab\u8c03\u7528\uff0c\n",
      "\u5185\u5d4c\u5305\u88c5\u51fd\u6570\u7684\u5f62\u53c2\u548c\u8fd4\u56de\u503c\u4e0e\u539f\u51fd\u6570\u76f8\u540c\uff0c\u88c5\u9970\u51fd\u6570\u8fd4\u56de\u5185\u5d4c\u5305\u88c5\u51fd\u6570\u5bf9\u8c61'''\n",
      " \n",
      "def deco(func):\n",
      "    def _deco():\n",
      "        print(\"before myfunc() called.\")\n",
      "        func()\n",
      "        print(\"  after myfunc() called.\")\n",
      "        # \u4e0d\u9700\u8981\u8fd4\u56defunc\uff0c\u5b9e\u9645\u4e0a\u5e94\u8fd4\u56de\u539f\u51fd\u6570\u7684\u8fd4\u56de\u503c\n",
      "    return _deco\n",
      " \n",
      "@deco\n",
      "def myfunc():\n",
      "    print(\" myfunc() called.\")\n",
      "    return 'ok'\n",
      " \n",
      "myfunc()\n",
      "myfunc()"
     ],
     "language": "python",
     "metadata": {},
     "outputs": []
    },
    {
     "cell_type": "heading",
     "level": 4,
     "metadata": {},
     "source": [
      "1.3.2 \u5bf9\u5e26\u53c2\u6570\u7684\u51fd\u6570\u8fdb\u884c\u88c5\u9970"
     ]
    },
    {
     "cell_type": "code",
     "collapsed": false,
     "input": [
      "# -*- coding:gbk -*-\n",
      "'''\u793a\u4f8b5: \u5bf9\u5e26\u53c2\u6570\u7684\u51fd\u6570\u8fdb\u884c\u88c5\u9970\uff0c\n",
      "\u5185\u5d4c\u5305\u88c5\u51fd\u6570\u7684\u5f62\u53c2\u548c\u8fd4\u56de\u503c\u4e0e\u539f\u51fd\u6570\u76f8\u540c\uff0c\u88c5\u9970\u51fd\u6570\u8fd4\u56de\u5185\u5d4c\u5305\u88c5\u51fd\u6570\u5bf9\u8c61'''\n",
      " \n",
      "def deco(func):\n",
      "    def _deco(a, b):\n",
      "        print(\"before myfunc() called.\")\n",
      "        ret = func(a, b)\n",
      "        print(\"  after myfunc() called. result: %s\" % ret)\n",
      "        return ret\n",
      "    return _deco\n",
      " \n",
      "@deco\n",
      "def myfunc(a, b):\n",
      "    print(\" myfunc(%s,%s) called.\" % (a, b))\n",
      "    return a + b\n",
      " \n",
      "myfunc(1, 2)\n",
      "myfunc(3, 4)"
     ],
     "language": "python",
     "metadata": {},
     "outputs": []
    },
    {
     "cell_type": "heading",
     "level": 4,
     "metadata": {},
     "source": [
      "1.3.3 \u5bf9\u53c2\u6570\u6570\u91cf\u4e0d\u786e\u5b9a\u7684\u51fd\u6570\u8fdb\u884c\u88c5\u9970"
     ]
    },
    {
     "cell_type": "code",
     "collapsed": false,
     "input": [
      "# -*- coding:gbk -*-\n",
      "'''\u793a\u4f8b6: \u5bf9\u53c2\u6570\u6570\u91cf\u4e0d\u786e\u5b9a\u7684\u51fd\u6570\u8fdb\u884c\u88c5\u9970\uff0c\n",
      "\u53c2\u6570\u7528(*args, **kwargs)\uff0c\u81ea\u52a8\u9002\u5e94\u53d8\u53c2\u548c\u547d\u540d\u53c2\u6570'''\n",
      " \n",
      "def deco(func):\n",
      "    def _deco(*args, **kwargs):\n",
      "        print(\"before %s called.\" % func.__name__)\n",
      "        ret = func(*args, **kwargs)\n",
      "        print(\"  after %s called. result: %s\" % (func.__name__, ret))\n",
      "        return ret\n",
      "    return _deco\n",
      " \n",
      "@deco\n",
      "def myfunc(a, b):\n",
      "    print(\" myfunc(%s,%s) called.\" % (a, b))\n",
      "    return a+b\n",
      " \n",
      "@deco\n",
      "def myfunc2(a, b, c):\n",
      "    print(\" myfunc2(%s,%s,%s) called.\" % (a, b, c))\n",
      "    return a+b+c\n",
      " \n",
      "myfunc(1, 2)\n",
      "myfunc(3, 4)\n",
      "myfunc2(1, 2, 3)\n",
      "myfunc2(3, 4, 5)"
     ],
     "language": "python",
     "metadata": {},
     "outputs": [
      {
       "output_type": "stream",
       "stream": "stdout",
       "text": [
        "before myfunc called.\n",
        " myfunc(1,2) called.\n",
        "  after myfunc called. result: 3\n",
        "before myfunc called.\n",
        " myfunc(3,4) called.\n",
        "  after myfunc called. result: 7\n",
        "before myfunc2 called.\n",
        " myfunc2(1,2,3) called.\n",
        "  after myfunc2 called. result: 6\n",
        "before myfunc2 called.\n",
        " myfunc2(3,4,5) called.\n",
        "  after myfunc2 called. result: 12\n"
       ]
      },
      {
       "metadata": {},
       "output_type": "pyout",
       "prompt_number": 6,
       "text": [
        "12"
       ]
      }
     ],
     "prompt_number": 6
    },
    {
     "cell_type": "heading",
     "level": 4,
     "metadata": {},
     "source": [
      "1.3.4 \u8ba9\u88c5\u9970\u5668\u5e26\u53c2\u6570"
     ]
    },
    {
     "cell_type": "code",
     "collapsed": false,
     "input": [
      "# -*- coding:gbk -*-\n",
      "'''\u793a\u4f8b7: \u5728\u793a\u4f8b4\u7684\u57fa\u7840\u4e0a\uff0c\u8ba9\u88c5\u9970\u5668\u5e26\u53c2\u6570\uff0c\n",
      "\u548c\u4e0a\u4e00\u793a\u4f8b\u76f8\u6bd4\u5728\u5916\u5c42\u591a\u4e86\u4e00\u5c42\u5305\u88c5\u3002\n",
      "\u88c5\u9970\u51fd\u6570\u540d\u5b9e\u9645\u4e0a\u5e94\u66f4\u6709\u610f\u4e49\u4e9b'''\n",
      " \n",
      "def deco(arg):\n",
      "    def _deco(func):\n",
      "        def __deco():\n",
      "            print(\"before %s called [%s].\" % (func.__name__, arg))\n",
      "            func()\n",
      "            print(\"  after %s called [%s].\" % (func.__name__, arg))\n",
      "        return __deco\n",
      "    return _deco\n",
      " \n",
      "@deco(\"mymodule\")\n",
      "def myfunc():\n",
      "    print(\" myfunc() called.\")\n",
      " \n",
      "@deco(\"module2\")\n",
      "def myfunc2():\n",
      "    print(\" myfunc2() called.\")\n",
      " \n",
      "myfunc()\n",
      "myfunc2()"
     ],
     "language": "python",
     "metadata": {},
     "outputs": []
    },
    {
     "cell_type": "code",
     "collapsed": false,
     "input": [
      "1.3.5 \u8ba9\u88c5\u9970\u5668\u5e26 \u7c7b \u53c2\u6570"
     ],
     "language": "python",
     "metadata": {},
     "outputs": []
    },
    {
     "cell_type": "code",
     "collapsed": false,
     "input": [
      "# -*- coding:gbk -*-\n",
      "'''\u793a\u4f8b8: \u88c5\u9970\u5668\u5e26\u7c7b\u53c2\u6570'''\n",
      " \n",
      "class locker:\n",
      "    def __init__(self):\n",
      "        print(\"locker.__init__() should be not called.\")\n",
      "         \n",
      "    @staticmethod\n",
      "    def acquire():\n",
      "        print(\"locker.acquire() called.\uff08\u8fd9\u662f\u9759\u6001\u65b9\u6cd5\uff09\")\n",
      "         \n",
      "    @staticmethod\n",
      "    def release():\n",
      "        print(\"  locker.release() called.\uff08\u4e0d\u9700\u8981\u5bf9\u8c61\u5b9e\u4f8b\uff09\")\n",
      " \n",
      "def deco(cls):\n",
      "    '''cls \u5fc5\u987b\u5b9e\u73b0acquire\u548crelease\u9759\u6001\u65b9\u6cd5'''\n",
      "    def _deco(func):\n",
      "        def __deco():\n",
      "            print(\"before %s called [%s].\" % (func.__name__, cls))\n",
      "            cls.acquire()\n",
      "            try:\n",
      "                return func()\n",
      "            finally:\n",
      "                cls.release()\n",
      "        return __deco\n",
      "    return _deco\n",
      " \n",
      "@deco(locker)\n",
      "def myfunc():\n",
      "    print(\" myfunc() called.\")\n",
      " \n",
      "myfunc()\n",
      "myfunc()"
     ],
     "language": "python",
     "metadata": {},
     "outputs": []
    },
    {
     "cell_type": "heading",
     "level": 4,
     "metadata": {},
     "source": [
      "1.3.6 \u88c5\u9970\u5668\u5e26\u7c7b\u53c2\u6570\uff0c\u5e76\u5206\u62c6\u516c\u5171\u7c7b\u5230\u5176\u4ed6py\u6587\u4ef6\u4e2d\uff0c\u540c\u65f6\u6f14\u793a\u4e86\u5bf9\u4e00\u4e2a\u51fd\u6570\u5e94\u7528\u591a\u4e2a\u88c5\u9970\u5668"
     ]
    },
    {
     "cell_type": "code",
     "collapsed": false,
     "input": [
      "# -*- coding:gbk -*-\n",
      "'''mylocker.py: \u516c\u5171\u7c7b for \u793a\u4f8b9.py'''\n",
      " \n",
      "class mylocker:\n",
      "    def __init__(self):\n",
      "        print(\"mylocker.__init__() called.\")\n",
      "         \n",
      "    @staticmethod\n",
      "    def acquire():\n",
      "        print(\"mylocker.acquire() called.\")\n",
      "         \n",
      "    @staticmethod\n",
      "    def unlock():\n",
      "        print(\"  mylocker.unlock() called.\")\n",
      " \n",
      "class lockerex(mylocker):\n",
      "    @staticmethod\n",
      "    def acquire():\n",
      "        print(\"lockerex.acquire() called.\")\n",
      "         \n",
      "    @staticmethod\n",
      "    def unlock():\n",
      "        print(\"  lockerex.unlock() called.\")\n",
      " \n",
      "def lockhelper(cls):\n",
      "    '''cls \u5fc5\u987b\u5b9e\u73b0acquire\u548crelease\u9759\u6001\u65b9\u6cd5'''\n",
      "    def _deco(func):\n",
      "        def __deco(*args, **kwargs):\n",
      "            print(\"before %s called.\" % func.__name__)\n",
      "            cls.acquire()\n",
      "            try:\n",
      "                return func(*args, **kwargs)\n",
      "            finally:\n",
      "                cls.unlock()\n",
      "        return __deco\n",
      "    return _deco"
     ],
     "language": "python",
     "metadata": {},
     "outputs": []
    },
    {
     "cell_type": "code",
     "collapsed": false,
     "input": [
      "# -*- coding:gbk -*-\n",
      "'''\u793a\u4f8b9: \u88c5\u9970\u5668\u5e26\u7c7b\u53c2\u6570\uff0c\u5e76\u5206\u62c6\u516c\u5171\u7c7b\u5230\u5176\u4ed6py\u6587\u4ef6\u4e2d\n",
      "\u540c\u65f6\u6f14\u793a\u4e86\u5bf9\u4e00\u4e2a\u51fd\u6570\u5e94\u7528\u591a\u4e2a\u88c5\u9970\u5668'''\n",
      " \n",
      "from mylocker import *\n",
      " \n",
      "class example:\n",
      "    @lockhelper(mylocker)\n",
      "    def myfunc(self):\n",
      "        print(\" myfunc() called.\")\n",
      " \n",
      "    @lockhelper(mylocker)\n",
      "    @lockhelper(lockerex)\n",
      "    def myfunc2(self, a, b):\n",
      "        print(\" myfunc2() called.\")\n",
      "        return a + b\n",
      " \n",
      "if __name__==\"__main__\":\n",
      "    a = example()\n",
      "    a.myfunc()\n",
      "    print(a.myfunc())\n",
      "    print(a.myfunc2(1, 2))\n",
      "    print(a.myfunc2(3, 4))"
     ],
     "language": "python",
     "metadata": {},
     "outputs": []
    },
    {
     "cell_type": "heading",
     "level": 2,
     "metadata": {},
     "source": [
      "2. Python\u7684\u989d\u5916\u652f\u6301"
     ]
    },
    {
     "cell_type": "heading",
     "level": 3,
     "metadata": {},
     "source": [
      "2.1. \u8bed\u6cd5\u7cd6"
     ]
    },
    {
     "cell_type": "markdown",
     "metadata": {},
     "source": [
      "\u4e0a\u9762\u8fd9\u6bb5\u4ee3\u7801\u770b\u8d77\u6765\u4f3c\u4e4e\u5df2\u7ecf\u4e0d\u80fd\u518d\u7cbe\u7b80\u4e86\uff0cPython\u4e8e\u662f\u63d0\u4f9b\u4e86\u4e00\u4e2a\u8bed\u6cd5\u7cd6\u6765\u964d\u4f4e\u5b57\u7b26\u8f93\u5165\u91cf\u3002"
     ]
    },
    {
     "cell_type": "markdown",
     "metadata": {},
     "source": [
      "import time\n",
      " \n",
      "def timeit(func):\n",
      "    def wrapper():\n",
      "        start = time.clock()\n",
      "        func()\n",
      "        end =time.clock()\n",
      "        print 'used:', end - start\n",
      "    return wrapper\n",
      " \n",
      "@timeit\n",
      "def foo():\n",
      "    print 'in foo()'\n",
      " \n",
      "foo()"
     ]
    },
    {
     "cell_type": "markdown",
     "metadata": {},
     "source": [
      "\u91cd\u70b9\u5173\u6ce8\u7b2c11\u884c\u7684@timeit\uff0c\u5728\u5b9a\u4e49\u4e0a\u52a0\u4e0a\u8fd9\u4e00\u884c\u4e0e\u53e6\u5916\u5199foo = timeit(foo)\u5b8c\u5168\u7b49\u4ef7\uff0c\u5343\u4e07\u4e0d\u8981\u4ee5\u4e3a@\u6709\u53e6\u5916\u7684\u9b54\u529b\u3002\u9664\u4e86\u5b57\u7b26\u8f93\u5165\u5c11\u4e86\u4e00\u4e9b\uff0c\u8fd8\u6709\u4e00\u4e2a\u989d\u5916\u7684\u597d\u5904\uff1a\u8fd9\u6837\u770b\u4e0a\u53bb\u66f4\u6709\u88c5\u9970\u5668\u7684\u611f\u89c9\u3002"
     ]
    },
    {
     "cell_type": "heading",
     "level": 3,
     "metadata": {},
     "source": [
      "2.2. \u5185\u7f6e\u7684\u88c5\u9970\u5668"
     ]
    },
    {
     "cell_type": "markdown",
     "metadata": {},
     "source": [
      "\u5185\u7f6e\u7684\u88c5\u9970\u5668\u6709\u4e09\u4e2a\uff0c\u5206\u522b\u662fstaticmethod\u3001classmethod\u548cproperty\uff0c\u4f5c\u7528\u5206\u522b\u662f\u628a\u7c7b\u4e2d\u5b9a\u4e49\u7684\u5b9e\u4f8b\u65b9\u6cd5\u53d8\u6210\u9759\u6001\u65b9\u6cd5\u3001\u7c7b\u65b9\u6cd5\u548c\u7c7b\u5c5e\u6027\u3002\u7531\u4e8e\u6a21\u5757\u91cc\u53ef\u4ee5\u5b9a\u4e49\u51fd\u6570\uff0c\u6240\u4ee5\u9759\u6001\u65b9\u6cd5\u548c\u7c7b\u65b9\u6cd5\u7684\u7528\u5904\u5e76\u4e0d\u662f\u592a\u591a\uff0c\u9664\u975e\u4f60\u60f3\u8981\u5b8c\u5168\u7684\u9762\u5411\u5bf9\u8c61\u7f16\u7a0b\u3002\u800c\u5c5e\u6027\u4e5f\u4e0d\u662f\u4e0d\u53ef\u6216\u7f3a\u7684\uff0cJava\u6ca1\u6709\u5c5e\u6027\u4e5f\u4e00\u6837\u6d3b\u5f97\u5f88\u6ecb\u6da6\u3002\u4ece\u6211\u4e2a\u4eba\u7684Python\u7ecf\u9a8c\u6765\u770b\uff0c\u6211\u6ca1\u6709\u4f7f\u7528\u8fc7property\uff0c\u4f7f\u7528staticmethod\u548cclassmethod\u7684\u9891\u7387\u4e5f\u975e\u5e38\u4f4e\u3002\n"
     ]
    },
    {
     "cell_type": "markdown",
     "metadata": {},
     "source": [
      "class Rabbit(object):\n",
      "     \n",
      "    def __init__(self, name):\n",
      "        self._name = name\n",
      "     \n",
      "    @staticmethod\n",
      "    def newRabbit(name):\n",
      "        return Rabbit(name)\n",
      "     \n",
      "    @classmethod\n",
      "    def newRabbit2(cls):\n",
      "        return Rabbit('')\n",
      "     \n",
      "    @property\n",
      "    def name(self):\n",
      "        return self._name"
     ]
    },
    {
     "cell_type": "markdown",
     "metadata": {},
     "source": [
      "\u8fd9\u91cc\u5b9a\u4e49\u7684\u5c5e\u6027\u662f\u4e00\u4e2a\u53ea\u8bfb\u5c5e\u6027\uff0c\u5982\u679c\u9700\u8981\u53ef\u5199\uff0c\u5219\u9700\u8981\u518d\u5b9a\u4e49\u4e00\u4e2asetter\uff1a"
     ]
    },
    {
     "cell_type": "markdown",
     "metadata": {},
     "source": [
      "@name.setter\n",
      "def name(self, name):\n",
      "    self._name = name"
     ]
    },
    {
     "cell_type": "heading",
     "level": 3,
     "metadata": {},
     "source": [
      "2.3. functools\u6a21\u5757"
     ]
    },
    {
     "cell_type": "markdown",
     "metadata": {},
     "source": [
      "functools\u6a21\u5757\u63d0\u4f9b\u4e86\u4e24\u4e2a\u88c5\u9970\u5668\u3002\u8fd9\u4e2a\u6a21\u5757\u662fPython 2.5\u540e\u65b0\u589e\u7684\uff0c\u4e00\u822c\u6765\u8bf4\u5927\u5bb6\u7528\u7684\u5e94\u8be5\u90fd\u9ad8\u4e8e\u8fd9\u4e2a\u7248\u672c\u3002"
     ]
    },
    {
     "cell_type": "heading",
     "level": 4,
     "metadata": {},
     "source": [
      "2.3.1. wraps(wrapped[, assigned][, updated]): "
     ]
    },
    {
     "cell_type": "markdown",
     "metadata": {},
     "source": [
      "\u8fd9\u662f\u4e00\u4e2a\u5f88\u6709\u7528\u7684\u88c5\u9970\u5668\u3002\u770b\u8fc7\u524d\u4e00\u7bc7\u53cd\u5c04\u7684\u670b\u53cb\u5e94\u8be5\u77e5\u9053\uff0c\u51fd\u6570\u662f\u6709\u51e0\u4e2a\u7279\u6b8a\u5c5e\u6027\u6bd4\u5982\u51fd\u6570\u540d\uff0c\u5728\u88ab\u88c5\u9970\u540e\uff0c\u4e0a\u4f8b\u4e2d\u7684\u51fd\u6570\u540dfoo\u4f1a\u53d8\u6210\u5305\u88c5\u51fd\u6570\u7684\u540d\u5b57wrapper\uff0c\u5982\u679c\u4f60\u5e0c\u671b\u4f7f\u7528\u53cd\u5c04\uff0c\u53ef\u80fd\u4f1a\u5bfc\u81f4\u610f\u5916\u7684\u7ed3\u679c\u3002\u8fd9\u4e2a\u88c5\u9970\u5668\u53ef\u4ee5\u89e3\u51b3\u8fd9\u4e2a\u95ee\u9898\uff0c\u5b83\u80fd\u5c06\u88c5\u9970\u8fc7\u7684\u51fd\u6570\u7684\u7279\u6b8a\u5c5e\u6027\u4fdd\u7559\u3002"
     ]
    },
    {
     "cell_type": "markdown",
     "metadata": {},
     "source": [
      "import time\n",
      "import functools\n",
      " \n",
      "def timeit(func):\n",
      "    @functools.wraps(func)\n",
      "    def wrapper():\n",
      "        start = time.clock()\n",
      "        func()\n",
      "        end =time.clock()\n",
      "        print 'used:', end - start\n",
      "    return wrapper\n",
      " \n",
      "@timeit\n",
      "def foo():\n",
      "    print 'in foo()'\n",
      " \n",
      "foo()\n",
      "print foo.__name__"
     ]
    },
    {
     "cell_type": "markdown",
     "metadata": {},
     "source": [
      "\u9996\u5148\u6ce8\u610f\u7b2c5\u884c\uff0c\u5982\u679c\u6ce8\u91ca\u8fd9\u4e00\u884c\uff0cfoo.__name__\u5c06\u662f'wrapper'\u3002\u53e6\u5916\u76f8\u4fe1\u4f60\u4e5f\u6ce8\u610f\u5230\u4e86\uff0c\u8fd9\u4e2a\u88c5\u9970\u5668\u7adf\u7136\u5e26\u6709\u4e00\u4e2a\u53c2\u6570\u3002\u5b9e\u9645\u4e0a\uff0c\u4ed6\u8fd8\u6709\u53e6\u5916\u4e24\u4e2a\u53ef\u9009\u7684\u53c2\u6570\uff0cassigned\u4e2d\u7684\u5c5e\u6027\u540d\u5c06\u4f7f\u7528\u8d4b\u503c\u7684\u65b9\u5f0f\u66ff\u6362\uff0c\u800cupdated\u4e2d\u7684\u5c5e\u6027\u540d\u5c06\u4f7f\u7528update\u7684\u65b9\u5f0f\u5408\u5e76\uff0c\u4f60\u53ef\u4ee5\u901a\u8fc7\u67e5\u770bfunctools\u7684\u6e90\u4ee3\u7801\u83b7\u5f97\u5b83\u4eec\u7684\u9ed8\u8ba4\u503c\u3002\u5bf9\u4e8e\u8fd9\u4e2a\u88c5\u9970\u5668\uff0c\u76f8\u5f53\u4e8ewrapper = functools.wraps(func)(wrapper)\u3002"
     ]
    },
    {
     "cell_type": "heading",
     "level": 4,
     "metadata": {},
     "source": [
      "2.3.2. total_ordering(cls): "
     ]
    },
    {
     "cell_type": "markdown",
     "metadata": {},
     "source": [
      "\u8fd9\u4e2a\u88c5\u9970\u5668\u5728\u7279\u5b9a\u7684\u573a\u5408\u6709\u4e00\u5b9a\u7528\u5904\uff0c\u4f46\u662f\u5b83\u662f\u5728Python 2.7\u540e\u65b0\u589e\u7684\u3002\u5b83\u7684\u4f5c\u7528\u662f\u4e3a\u5b9e\u73b0\u4e86\u81f3\u5c11__lt__\u3001__le__\u3001__gt__\u3001__ge__\u5176\u4e2d\u4e00\u4e2a\u7684\u7c7b\u52a0\u4e0a\u5176\u4ed6\u7684\u6bd4\u8f83\u65b9\u6cd5\uff0c\u8fd9\u662f\u4e00\u4e2a\u7c7b\u88c5\u9970\u5668\u3002\u5982\u679c\u89c9\u5f97\u4e0d\u597d\u7406\u89e3\uff0c\u4e0d\u59a8\u4ed4\u7ec6\u770b\u770b\u8fd9\u4e2a\u88c5\u9970\u5668\u7684\u6e90\u4ee3\u7801\uff1a"
     ]
    },
    {
     "cell_type": "markdown",
     "metadata": {},
     "source": [
      "def total_ordering(cls):\n",
      "      \"\"\"Class decorator that fills in missing ordering methods\"\"\"\n",
      "      convert = {\n",
      "          '__lt__': [('__gt__', lambda self, other: other < self),\n",
      "                     ('__le__', lambda self, other: not other < self),\n",
      "                     ('__ge__', lambda self, other: not self < other)],\n",
      "          '__le__': [('__ge__', lambda self, other: other <= self),\n",
      "                     ('__lt__', lambda self, other: not other <= self),\n",
      "                     ('__gt__', lambda self, other: not self <= other)],\n",
      "          '__gt__': [('__lt__', lambda self, other: other > self),\n",
      "                     ('__ge__', lambda self, other: not other > self),\n",
      "                     ('__le__', lambda self, other: not self > other)],\n",
      "          '__ge__': [('__le__', lambda self, other: other >= self),\n",
      "                     ('__gt__', lambda self, other: not other >= self),\n",
      "                     ('__lt__', lambda self, other: not self >= other)]\n",
      "      }\n",
      "      roots = set(dir(cls)) & set(convert)\n",
      "      if not roots:\n",
      "          raise ValueError('must define at least one ordering operation: < > <= >=')\n",
      "      root = max(roots)       # prefer __lt__ to __le__ to __gt__ to __ge__\n",
      "      for opname, opfunc in convert[root]:\n",
      "          if opname not in roots:\n",
      "              opfunc.__name__ = opname\n",
      "              opfunc.__doc__ = getattr(int, opname).__doc__\n",
      "              setattr(cls, opname, opfunc)\n",
      "      return cls"
     ]
    },
    {
     "cell_type": "code",
     "collapsed": false,
     "input": [],
     "language": "python",
     "metadata": {},
     "outputs": []
    }
   ],
   "metadata": {}
  }
 ]
}